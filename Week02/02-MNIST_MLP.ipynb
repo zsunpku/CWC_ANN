{
 "cells": [
  {
   "cell_type": "markdown",
   "metadata": {},
   "source": [
    "# MNIST MLP\n",
    "\n",
    "You should already have gone through the `GettingStartedSequentialModels` notebook -- if not you'll be lost here!"
   ]
  },
  {
   "cell_type": "code",
   "execution_count": 1,
   "metadata": {},
   "outputs": [
    {
     "name": "stderr",
     "output_type": "stream",
     "text": [
      "Using TensorFlow backend.\n"
     ]
    }
   ],
   "source": [
    "import numpy as np\n",
    "from IPython.display import SVG\n",
    "from keras.utils.vis_utils import model_to_dot"
   ]
  },
  {
   "cell_type": "markdown",
   "metadata": {},
   "source": [
    "We're going to use some examples from [https://github.com/fchollet/keras/tree/master/examples](https://github.com/fchollet/keras/tree/master/examples).\n",
    "There are tons more and you should check them out!\n",
    "We'll use these examples to learn about some different sorts of layers, and strategies for our activation functions, loss functions, optimizers, etc."
   ]
  },
  {
   "cell_type": "markdown",
   "metadata": {},
   "source": [
    "## Simple Deep NN on the MNIST Dataset\n",
    "\n",
    "This examples is from [https://github.com/fchollet/keras/blob/master/examples/mnist_mlp.py](https://github.com/fchollet/keras/blob/master/examples/mnist_mlp.py).\n",
    "It's a good one to start with because it's not much more complex than what we have seen, but uses real data!"
   ]
  },
  {
   "cell_type": "code",
   "execution_count": 2,
   "metadata": {
    "collapsed": true
   },
   "outputs": [],
   "source": [
    "import keras\n",
    "from keras.datasets import mnist # load up the training data!\n",
    "from keras.models import Sequential # our model\n",
    "from keras.layers import Dense, Dropout # Dropout laters?!\n",
    "from keras.optimizers import RMSprop # our optimizer"
   ]
  },
  {
   "cell_type": "markdown",
   "metadata": {},
   "source": [
    "Typically it's good practice to specify your parameters together"
   ]
  },
  {
   "cell_type": "code",
   "execution_count": 3,
   "metadata": {
    "collapsed": true
   },
   "outputs": [],
   "source": [
    "batch_size = 128\n",
    "num_classes = 10\n",
    "epochs = 10 # this is too low "
   ]
  },
  {
   "cell_type": "markdown",
   "metadata": {},
   "source": [
    "Now get the data.\n",
    "It's nicely split up between training and testing data which we'll see can be useful.\n",
    "We'll also see that this data treats the images as matrices (row is an observation, column is a pixel).\n",
    "However, the input data _doesn't need to be a matrix_."
   ]
  },
  {
   "cell_type": "code",
   "execution_count": 4,
   "metadata": {
    "collapsed": true
   },
   "outputs": [],
   "source": [
    "(x_train, y_train), (x_test, y_test) = mnist.load_data()"
   ]
  },
  {
   "cell_type": "code",
   "execution_count": 5,
   "metadata": {},
   "outputs": [
    {
     "name": "stdout",
     "output_type": "stream",
     "text": [
      "(60000, 28, 28)\n",
      "(60000,)\n",
      "(10000, 28, 28)\n",
      "(10000,)\n"
     ]
    }
   ],
   "source": [
    "print(x_train.shape)\n",
    "print(y_train.shape)\n",
    "print(x_test.shape)\n",
    "print(y_test.shape)"
   ]
  },
  {
   "cell_type": "markdown",
   "metadata": {},
   "source": [
    "The tutorial then makes a few changes to the data.\n",
    "First, reshape it -- to make sure that the rows and columns are what we expect them to be.\n",
    "Then, divide by 255 so that the values go from 0 to 1.\n",
    "Such scaling is typically a good idea.\n",
    "It also treats the $X$ values as `float32` which you don't have to worry about too much but makes computation a bit faster (at the expense of non-critical numerical detail)."
   ]
  },
  {
   "cell_type": "code",
   "execution_count": 6,
   "metadata": {},
   "outputs": [
    {
     "name": "stdout",
     "output_type": "stream",
     "text": [
      "(60000, 784)\n",
      "(60000,)\n",
      "(10000, 784)\n",
      "(10000,)\n"
     ]
    }
   ],
   "source": [
    "x_train = x_train.reshape(60000, 784)\n",
    "x_test = x_test.reshape(10000, 784)\n",
    "x_train = x_train.astype('float32')\n",
    "x_test = x_test.astype('float32')\n",
    "x_train /= 255\n",
    "x_test /= 255\n",
    "print(x_train.shape)\n",
    "print(y_train.shape)\n",
    "print(x_test.shape)\n",
    "print(y_test.shape)"
   ]
  },
  {
   "cell_type": "markdown",
   "metadata": {},
   "source": [
    "As before we use the `to_categorical()` function"
   ]
  },
  {
   "cell_type": "code",
   "execution_count": 7,
   "metadata": {
    "collapsed": true
   },
   "outputs": [],
   "source": [
    "y_train = keras.utils.to_categorical(y_train, num_classes)\n",
    "y_test = keras.utils.to_categorical(y_test, num_classes)"
   ]
  },
  {
   "cell_type": "markdown",
   "metadata": {},
   "source": [
    "Now define our model"
   ]
  },
  {
   "cell_type": "code",
   "execution_count": 8,
   "metadata": {
    "collapsed": true
   },
   "outputs": [],
   "source": [
    "model = Sequential()\n",
    "model.add(Dense(512, activation='relu', input_shape=(784,)))\n",
    "model.add(Dropout(0.2))\n",
    "model.add(Dense(512, activation='relu'))\n",
    "model.add(Dropout(0.2))\n",
    "model.add(Dense(10, activation='softmax')) # remember y has 10 categories!"
   ]
  },
  {
   "cell_type": "code",
   "execution_count": 9,
   "metadata": {},
   "outputs": [
    {
     "data": {
      "image/svg+xml": [
       "<svg height=\"410pt\" viewBox=\"0.00 0.00 175.24 410.00\" width=\"175pt\" xmlns=\"http://www.w3.org/2000/svg\" xmlns:xlink=\"http://www.w3.org/1999/xlink\">\n",
       "<g class=\"graph\" id=\"graph0\" transform=\"scale(1 1) rotate(0) translate(4 406)\">\n",
       "<title>G</title>\n",
       "<polygon fill=\"#ffffff\" points=\"-4,4 -4,-406 171.2383,-406 171.2383,4 -4,4\" stroke=\"transparent\"/>\n",
       "<!-- 4791386912 -->\n",
       "<g class=\"node\" id=\"node1\">\n",
       "<title>4791386912</title>\n",
       "<polygon fill=\"none\" points=\"0,-365.5 0,-401.5 167.2383,-401.5 167.2383,-365.5 0,-365.5\" stroke=\"#000000\"/>\n",
       "<text fill=\"#000000\" font-family=\"Times,serif\" font-size=\"14.00\" text-anchor=\"middle\" x=\"83.6191\" y=\"-379.3\">dense_1_input: InputLayer</text>\n",
       "</g>\n",
       "<!-- 4791386408 -->\n",
       "<g class=\"node\" id=\"node2\">\n",
       "<title>4791386408</title>\n",
       "<polygon fill=\"none\" points=\"31.4932,-292.5 31.4932,-328.5 135.7451,-328.5 135.7451,-292.5 31.4932,-292.5\" stroke=\"#000000\"/>\n",
       "<text fill=\"#000000\" font-family=\"Times,serif\" font-size=\"14.00\" text-anchor=\"middle\" x=\"83.6191\" y=\"-306.3\">dense_1: Dense</text>\n",
       "</g>\n",
       "<!-- 4791386912&#45;&gt;4791386408 -->\n",
       "<g class=\"edge\" id=\"edge1\">\n",
       "<title>4791386912-&gt;4791386408</title>\n",
       "<path d=\"M83.6191,-365.4551C83.6191,-357.3828 83.6191,-347.6764 83.6191,-338.6817\" fill=\"none\" stroke=\"#000000\"/>\n",
       "<polygon fill=\"#000000\" points=\"87.1192,-338.5903 83.6191,-328.5904 80.1192,-338.5904 87.1192,-338.5903\" stroke=\"#000000\"/>\n",
       "</g>\n",
       "<!-- 4791386520 -->\n",
       "<g class=\"node\" id=\"node3\">\n",
       "<title>4791386520</title>\n",
       "<polygon fill=\"none\" points=\"19.8174,-219.5 19.8174,-255.5 147.4209,-255.5 147.4209,-219.5 19.8174,-219.5\" stroke=\"#000000\"/>\n",
       "<text fill=\"#000000\" font-family=\"Times,serif\" font-size=\"14.00\" text-anchor=\"middle\" x=\"83.6191\" y=\"-233.3\">dropout_1: Dropout</text>\n",
       "</g>\n",
       "<!-- 4791386408&#45;&gt;4791386520 -->\n",
       "<g class=\"edge\" id=\"edge2\">\n",
       "<title>4791386408-&gt;4791386520</title>\n",
       "<path d=\"M83.6191,-292.4551C83.6191,-284.3828 83.6191,-274.6764 83.6191,-265.6817\" fill=\"none\" stroke=\"#000000\"/>\n",
       "<polygon fill=\"#000000\" points=\"87.1192,-265.5903 83.6191,-255.5904 80.1192,-265.5904 87.1192,-265.5903\" stroke=\"#000000\"/>\n",
       "</g>\n",
       "<!-- 4791387584 -->\n",
       "<g class=\"node\" id=\"node4\">\n",
       "<title>4791387584</title>\n",
       "<polygon fill=\"none\" points=\"31.4932,-146.5 31.4932,-182.5 135.7451,-182.5 135.7451,-146.5 31.4932,-146.5\" stroke=\"#000000\"/>\n",
       "<text fill=\"#000000\" font-family=\"Times,serif\" font-size=\"14.00\" text-anchor=\"middle\" x=\"83.6191\" y=\"-160.3\">dense_2: Dense</text>\n",
       "</g>\n",
       "<!-- 4791386520&#45;&gt;4791387584 -->\n",
       "<g class=\"edge\" id=\"edge3\">\n",
       "<title>4791386520-&gt;4791387584</title>\n",
       "<path d=\"M83.6191,-219.4551C83.6191,-211.3828 83.6191,-201.6764 83.6191,-192.6817\" fill=\"none\" stroke=\"#000000\"/>\n",
       "<polygon fill=\"#000000\" points=\"87.1192,-192.5903 83.6191,-182.5904 80.1192,-192.5904 87.1192,-192.5903\" stroke=\"#000000\"/>\n",
       "</g>\n",
       "<!-- 4791387360 -->\n",
       "<g class=\"node\" id=\"node5\">\n",
       "<title>4791387360</title>\n",
       "<polygon fill=\"none\" points=\"19.8174,-73.5 19.8174,-109.5 147.4209,-109.5 147.4209,-73.5 19.8174,-73.5\" stroke=\"#000000\"/>\n",
       "<text fill=\"#000000\" font-family=\"Times,serif\" font-size=\"14.00\" text-anchor=\"middle\" x=\"83.6191\" y=\"-87.3\">dropout_2: Dropout</text>\n",
       "</g>\n",
       "<!-- 4791387584&#45;&gt;4791387360 -->\n",
       "<g class=\"edge\" id=\"edge4\">\n",
       "<title>4791387584-&gt;4791387360</title>\n",
       "<path d=\"M83.6191,-146.4551C83.6191,-138.3828 83.6191,-128.6764 83.6191,-119.6817\" fill=\"none\" stroke=\"#000000\"/>\n",
       "<polygon fill=\"#000000\" points=\"87.1192,-119.5903 83.6191,-109.5904 80.1192,-119.5904 87.1192,-119.5903\" stroke=\"#000000\"/>\n",
       "</g>\n",
       "<!-- 4838713552 -->\n",
       "<g class=\"node\" id=\"node6\">\n",
       "<title>4838713552</title>\n",
       "<polygon fill=\"none\" points=\"31.4932,-.5 31.4932,-36.5 135.7451,-36.5 135.7451,-.5 31.4932,-.5\" stroke=\"#000000\"/>\n",
       "<text fill=\"#000000\" font-family=\"Times,serif\" font-size=\"14.00\" text-anchor=\"middle\" x=\"83.6191\" y=\"-14.3\">dense_3: Dense</text>\n",
       "</g>\n",
       "<!-- 4791387360&#45;&gt;4838713552 -->\n",
       "<g class=\"edge\" id=\"edge5\">\n",
       "<title>4791387360-&gt;4838713552</title>\n",
       "<path d=\"M83.6191,-73.4551C83.6191,-65.3828 83.6191,-55.6764 83.6191,-46.6817\" fill=\"none\" stroke=\"#000000\"/>\n",
       "<polygon fill=\"#000000\" points=\"87.1192,-46.5903 83.6191,-36.5904 80.1192,-46.5904 87.1192,-46.5903\" stroke=\"#000000\"/>\n",
       "</g>\n",
       "</g>\n",
       "</svg>"
      ],
      "text/plain": [
       "<IPython.core.display.SVG object>"
      ]
     },
     "execution_count": 9,
     "metadata": {},
     "output_type": "execute_result"
    }
   ],
   "source": [
    "# comment this line if you don't have graphviz installed\n",
    "SVG(model_to_dot(model).create(prog='dot', format='svg'))"
   ]
  },
  {
   "cell_type": "markdown",
   "metadata": {},
   "source": [
    "What is a \"dropout layer\"?\n",
    "See [Quora](https://www.quora.com/In-Keras-what-is-a-dense-and-a-dropout-layer):\n",
    "\n",
    "> Using “dropout\", you randomly deactivate certain units (neurons) in a layer with a certain probability $p$. So, if you set half of the activations of a layer to zero, the neural network won’t be able to rely on particular activations in a given feed-forward pass during training. As a consequence, the neural network will learn different, redundant representations; the network can’t rely on the particular neurons and the combination (or interaction) of these to be present. Another nice side effect is that training will be faster.\n",
    "\n",
    "We can use the `summary()` method to look at our model instead of the plot -- this _will_ work on your computer."
   ]
  },
  {
   "cell_type": "code",
   "execution_count": 10,
   "metadata": {},
   "outputs": [
    {
     "name": "stdout",
     "output_type": "stream",
     "text": [
      "_________________________________________________________________\n",
      "Layer (type)                 Output Shape              Param #   \n",
      "=================================================================\n",
      "dense_1 (Dense)              (None, 512)               401920    \n",
      "_________________________________________________________________\n",
      "dropout_1 (Dropout)          (None, 512)               0         \n",
      "_________________________________________________________________\n",
      "dense_2 (Dense)              (None, 512)               262656    \n",
      "_________________________________________________________________\n",
      "dropout_2 (Dropout)          (None, 512)               0         \n",
      "_________________________________________________________________\n",
      "dense_3 (Dense)              (None, 10)                5130      \n",
      "=================================================================\n",
      "Total params: 669,706\n",
      "Trainable params: 669,706\n",
      "Non-trainable params: 0\n",
      "_________________________________________________________________\n"
     ]
    }
   ],
   "source": [
    "model.summary()"
   ]
  },
  {
   "cell_type": "code",
   "execution_count": 11,
   "metadata": {
    "collapsed": true
   },
   "outputs": [],
   "source": [
    "model.compile(loss='categorical_crossentropy',\n",
    "              optimizer=RMSprop(),\n",
    "              metrics=['accuracy'])"
   ]
  },
  {
   "cell_type": "markdown",
   "metadata": {},
   "source": [
    "Now let's run our model.\n",
    "Note that by giving it a name (`history = model.fit(...`) we'll be able to access some of its outputs.\n",
    "We also use the `validation_data` argument to make it print out the model performance on validation data (which is __not__ used for fitting the model/calculating the back-propagation).\n",
    "The `verbose=1` makes the model talk to us as it fits -- put 0 to make it run silently"
   ]
  },
  {
   "cell_type": "code",
   "execution_count": 12,
   "metadata": {},
   "outputs": [
    {
     "name": "stdout",
     "output_type": "stream",
     "text": [
      "Train on 60000 samples, validate on 10000 samples\n",
      "Epoch 1/10\n",
      "60000/60000 [==============================] - 9s - loss: 0.2466 - acc: 0.9247 - val_loss: 0.1133 - val_acc: 0.9632\n",
      "Epoch 2/10\n",
      "60000/60000 [==============================] - 9s - loss: 0.1024 - acc: 0.9695 - val_loss: 0.0838 - val_acc: 0.9750\n",
      "Epoch 3/10\n",
      "60000/60000 [==============================] - 10s - loss: 0.0750 - acc: 0.9773 - val_loss: 0.0846 - val_acc: 0.9769\n",
      "Epoch 4/10\n",
      "60000/60000 [==============================] - 9s - loss: 0.0604 - acc: 0.9819 - val_loss: 0.0784 - val_acc: 0.9789\n",
      "Epoch 5/10\n",
      "60000/60000 [==============================] - 9s - loss: 0.0502 - acc: 0.9855 - val_loss: 0.0755 - val_acc: 0.9789\n",
      "Epoch 6/10\n",
      "60000/60000 [==============================] - 9s - loss: 0.0439 - acc: 0.9872 - val_loss: 0.0767 - val_acc: 0.9810\n",
      "Epoch 7/10\n",
      "60000/60000 [==============================] - 10s - loss: 0.0367 - acc: 0.9888 - val_loss: 0.0753 - val_acc: 0.9828\n",
      "Epoch 8/10\n",
      "60000/60000 [==============================] - 9s - loss: 0.0337 - acc: 0.9900 - val_loss: 0.0749 - val_acc: 0.9829\n",
      "Epoch 9/10\n",
      "60000/60000 [==============================] - 9s - loss: 0.0315 - acc: 0.9907 - val_loss: 0.0878 - val_acc: 0.9811\n",
      "Epoch 10/10\n",
      "60000/60000 [==============================] - 10s - loss: 0.0284 - acc: 0.9914 - val_loss: 0.0868 - val_acc: 0.9826\n"
     ]
    }
   ],
   "source": [
    "history = model.fit(x_train, y_train,\n",
    "                    batch_size=batch_size,\n",
    "                    epochs=epochs,\n",
    "                    verbose=1,\n",
    "                    validation_data=(x_test, y_test))"
   ]
  },
  {
   "cell_type": "markdown",
   "metadata": {},
   "source": [
    "Now we can score our model"
   ]
  },
  {
   "cell_type": "code",
   "execution_count": 17,
   "metadata": {},
   "outputs": [
    {
     "name": "stdout",
     "output_type": "stream",
     "text": [
      "Test loss: 0.0867859689541\n",
      "Test accuracy: 0.9826\n"
     ]
    }
   ],
   "source": [
    "score = model.evaluate(x_test, y_test, verbose=0)\n",
    "print('Test loss:', score[0])\n",
    "print('Test accuracy:', score[1])"
   ]
  },
  {
   "cell_type": "markdown",
   "metadata": {},
   "source": [
    "## Interpreting Validation Performance\n",
    "\n",
    "It's nice to see how our model performs on validation data.\n",
    "This gives us a nice benchmark on how well the model generalizes to data that it hasn't used in training before.\n",
    "However, there are some limitations.\n",
    "\n",
    "- In this case the validation score tells us how well our model does on new MNIST data in the same format as the original data. It doesn't tell us how good it is at image classification on other types of data.\n",
    "- When comparing many models, if we select the model with the best validation score we should be aware that this is a form of overfitting!"
   ]
  }
 ],
 "metadata": {
  "kernelspec": {
   "display_name": "Python 3",
   "language": "python",
   "name": "python3"
  },
  "language_info": {
   "codemirror_mode": {
    "name": "ipython",
    "version": 3
   },
   "file_extension": ".py",
   "mimetype": "text/x-python",
   "name": "python",
   "nbconvert_exporter": "python",
   "pygments_lexer": "ipython3",
   "version": "3.5.3"
  }
 },
 "nbformat": 4,
 "nbformat_minor": 2
}
